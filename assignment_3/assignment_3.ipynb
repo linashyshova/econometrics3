{
 "cells": [
  {
   "cell_type": "code",
   "id": "initial_id",
   "metadata": {
    "collapsed": true,
    "ExecuteTime": {
     "end_time": "2025-03-20T16:32:59.917835Z",
     "start_time": "2025-03-20T16:32:59.916024Z"
    }
   },
   "source": [
    "import numpy as np\n",
    "import pandas as pd\n",
    "import matplotlib.pyplot as plt"
   ],
   "outputs": [],
   "execution_count": 50
  },
  {
   "metadata": {
    "ExecuteTime": {
     "end_time": "2025-03-20T18:53:58.981865Z",
     "start_time": "2025-03-20T18:53:58.978467Z"
    }
   },
   "cell_type": "code",
   "source": "df = pd.read_csv('data/data.csv', delimiter=',')",
   "id": "902d45ce73afc26",
   "outputs": [],
   "execution_count": 168
  },
  {
   "metadata": {
    "ExecuteTime": {
     "end_time": "2025-03-20T18:54:00.329151Z",
     "start_time": "2025-03-20T18:54:00.324871Z"
    }
   },
   "cell_type": "code",
   "source": [
    "def convert_to_period(year_quarter):\n",
    "    year, quarter = map(int, year_quarter.split('-'))\n",
    "    return pd.Period(f'{year}Q{quarter}', freq='Q')\n",
    "\n",
    "df['YEAR'] = df['YEAR'].apply(convert_to_period)"
   ],
   "id": "eba474f441760aa7",
   "outputs": [],
   "execution_count": 169
  },
  {
   "metadata": {
    "ExecuteTime": {
     "end_time": "2025-03-20T17:39:43.896194Z",
     "start_time": "2025-03-20T17:39:43.888958Z"
    }
   },
   "cell_type": "code",
   "source": "df",
   "id": "eb2355645280e0be",
   "outputs": [
    {
     "data": {
      "text/plain": [
       "      YEAR           M           Y          WHH       P        OR\n",
       "0   1990Q1  2800323.02  4944425.83   8831083.80   83.85  5.390000\n",
       "1   1990Q2  2842420.32  4971787.92   9193762.10   84.77  5.430000\n",
       "2   1990Q3  2901349.28  5012622.96   9544938.80   85.62  5.380000\n",
       "3   1990Q4  2962927.69  5055894.03   9868494.30   86.24  5.490000\n",
       "4   1991Q1  3022986.97  5143857.89  10150361.50   86.98  5.590000\n",
       "..     ...         ...         ...          ...     ...       ...\n",
       "87  2011Q4  9597865.61  7077794.44  26748591.00  131.76  1.204606\n",
       "88  2012Q1  9682593.42  7067559.26  26504982.77  132.18  1.148056\n",
       "89  2012Q2  9763955.00  7042680.34  26380056.83  132.54  1.033236\n",
       "90  2012Q3  9841202.78  7031542.61  26147319.25  132.96  0.945536\n",
       "91  2012Q4  9937198.60  7001767.80  25882264.27  133.39  0.896294\n",
       "\n",
       "[92 rows x 6 columns]"
      ],
      "text/html": [
       "<div>\n",
       "<style scoped>\n",
       "    .dataframe tbody tr th:only-of-type {\n",
       "        vertical-align: middle;\n",
       "    }\n",
       "\n",
       "    .dataframe tbody tr th {\n",
       "        vertical-align: top;\n",
       "    }\n",
       "\n",
       "    .dataframe thead th {\n",
       "        text-align: right;\n",
       "    }\n",
       "</style>\n",
       "<table border=\"1\" class=\"dataframe\">\n",
       "  <thead>\n",
       "    <tr style=\"text-align: right;\">\n",
       "      <th></th>\n",
       "      <th>YEAR</th>\n",
       "      <th>M</th>\n",
       "      <th>Y</th>\n",
       "      <th>WHH</th>\n",
       "      <th>P</th>\n",
       "      <th>OR</th>\n",
       "    </tr>\n",
       "  </thead>\n",
       "  <tbody>\n",
       "    <tr>\n",
       "      <th>0</th>\n",
       "      <td>1990Q1</td>\n",
       "      <td>2800323.02</td>\n",
       "      <td>4944425.83</td>\n",
       "      <td>8831083.80</td>\n",
       "      <td>83.85</td>\n",
       "      <td>5.390000</td>\n",
       "    </tr>\n",
       "    <tr>\n",
       "      <th>1</th>\n",
       "      <td>1990Q2</td>\n",
       "      <td>2842420.32</td>\n",
       "      <td>4971787.92</td>\n",
       "      <td>9193762.10</td>\n",
       "      <td>84.77</td>\n",
       "      <td>5.430000</td>\n",
       "    </tr>\n",
       "    <tr>\n",
       "      <th>2</th>\n",
       "      <td>1990Q3</td>\n",
       "      <td>2901349.28</td>\n",
       "      <td>5012622.96</td>\n",
       "      <td>9544938.80</td>\n",
       "      <td>85.62</td>\n",
       "      <td>5.380000</td>\n",
       "    </tr>\n",
       "    <tr>\n",
       "      <th>3</th>\n",
       "      <td>1990Q4</td>\n",
       "      <td>2962927.69</td>\n",
       "      <td>5055894.03</td>\n",
       "      <td>9868494.30</td>\n",
       "      <td>86.24</td>\n",
       "      <td>5.490000</td>\n",
       "    </tr>\n",
       "    <tr>\n",
       "      <th>4</th>\n",
       "      <td>1991Q1</td>\n",
       "      <td>3022986.97</td>\n",
       "      <td>5143857.89</td>\n",
       "      <td>10150361.50</td>\n",
       "      <td>86.98</td>\n",
       "      <td>5.590000</td>\n",
       "    </tr>\n",
       "    <tr>\n",
       "      <th>...</th>\n",
       "      <td>...</td>\n",
       "      <td>...</td>\n",
       "      <td>...</td>\n",
       "      <td>...</td>\n",
       "      <td>...</td>\n",
       "      <td>...</td>\n",
       "    </tr>\n",
       "    <tr>\n",
       "      <th>87</th>\n",
       "      <td>2011Q4</td>\n",
       "      <td>9597865.61</td>\n",
       "      <td>7077794.44</td>\n",
       "      <td>26748591.00</td>\n",
       "      <td>131.76</td>\n",
       "      <td>1.204606</td>\n",
       "    </tr>\n",
       "    <tr>\n",
       "      <th>88</th>\n",
       "      <td>2012Q1</td>\n",
       "      <td>9682593.42</td>\n",
       "      <td>7067559.26</td>\n",
       "      <td>26504982.77</td>\n",
       "      <td>132.18</td>\n",
       "      <td>1.148056</td>\n",
       "    </tr>\n",
       "    <tr>\n",
       "      <th>89</th>\n",
       "      <td>2012Q2</td>\n",
       "      <td>9763955.00</td>\n",
       "      <td>7042680.34</td>\n",
       "      <td>26380056.83</td>\n",
       "      <td>132.54</td>\n",
       "      <td>1.033236</td>\n",
       "    </tr>\n",
       "    <tr>\n",
       "      <th>90</th>\n",
       "      <td>2012Q3</td>\n",
       "      <td>9841202.78</td>\n",
       "      <td>7031542.61</td>\n",
       "      <td>26147319.25</td>\n",
       "      <td>132.96</td>\n",
       "      <td>0.945536</td>\n",
       "    </tr>\n",
       "    <tr>\n",
       "      <th>91</th>\n",
       "      <td>2012Q4</td>\n",
       "      <td>9937198.60</td>\n",
       "      <td>7001767.80</td>\n",
       "      <td>25882264.27</td>\n",
       "      <td>133.39</td>\n",
       "      <td>0.896294</td>\n",
       "    </tr>\n",
       "  </tbody>\n",
       "</table>\n",
       "<p>92 rows × 6 columns</p>\n",
       "</div>"
      ]
     },
     "execution_count": 111,
     "metadata": {},
     "output_type": "execute_result"
    }
   ],
   "execution_count": 111
  },
  {
   "metadata": {},
   "cell_type": "markdown",
   "source": "## A. Data transformation",
   "id": "473e0af6e6e53a53"
  },
  {
   "metadata": {
    "ExecuteTime": {
     "end_time": "2025-03-20T18:54:18.533655Z",
     "start_time": "2025-03-20T18:54:18.530074Z"
    }
   },
   "cell_type": "code",
   "source": [
    "df['m'] = np.log(df['M'])\n",
    "df['y'] = np.log(df['Y'])\n",
    "df['p'] = np.log(df['P'])\n",
    "df['m_p'] = df['m'] - df['p']"
   ],
   "id": "7ce6bffb30fc9a00",
   "outputs": [],
   "execution_count": 171
  },
  {
   "metadata": {
    "ExecuteTime": {
     "end_time": "2025-03-20T17:39:48.071108Z",
     "start_time": "2025-03-20T17:39:48.062227Z"
    }
   },
   "cell_type": "code",
   "source": "df",
   "id": "b6877eb9dbed8b40",
   "outputs": [
    {
     "data": {
      "text/plain": [
       "      YEAR           M           Y          WHH       P        OR          m  \\\n",
       "0   1990Q1  2800323.02  4944425.83   8831083.80   83.85  5.390000  14.845245   \n",
       "1   1990Q2  2842420.32  4971787.92   9193762.10   84.77  5.430000  14.860166   \n",
       "2   1990Q3  2901349.28  5012622.96   9544938.80   85.62  5.380000  14.880686   \n",
       "3   1990Q4  2962927.69  5055894.03   9868494.30   86.24  5.490000  14.901688   \n",
       "4   1991Q1  3022986.97  5143857.89  10150361.50   86.98  5.590000  14.921756   \n",
       "..     ...         ...         ...          ...     ...       ...        ...   \n",
       "87  2011Q4  9597865.61  7077794.44  26748591.00  131.76  1.204606  16.077051   \n",
       "88  2012Q1  9682593.42  7067559.26  26504982.77  132.18  1.148056  16.085840   \n",
       "89  2012Q2  9763955.00  7042680.34  26380056.83  132.54  1.033236  16.094208   \n",
       "90  2012Q3  9841202.78  7031542.61  26147319.25  132.96  0.945536  16.102088   \n",
       "91  2012Q4  9937198.60  7001767.80  25882264.27  133.39  0.896294  16.111796   \n",
       "\n",
       "            y         p        m_p  \n",
       "0   15.413771  4.429029  10.416216  \n",
       "1   15.419290  4.439942  10.420225  \n",
       "2   15.427470  4.449919  10.430768  \n",
       "3   15.436065  4.457134  10.444554  \n",
       "4   15.453314  4.465678  10.456078  \n",
       "..        ...       ...        ...  \n",
       "87  15.772473  4.880982  11.196069  \n",
       "88  15.771026  4.884165  11.201676  \n",
       "89  15.767499  4.886884  11.207324  \n",
       "90  15.765917  4.890048  11.212040  \n",
       "91  15.761673  4.893277  11.218519  \n",
       "\n",
       "[92 rows x 10 columns]"
      ],
      "text/html": [
       "<div>\n",
       "<style scoped>\n",
       "    .dataframe tbody tr th:only-of-type {\n",
       "        vertical-align: middle;\n",
       "    }\n",
       "\n",
       "    .dataframe tbody tr th {\n",
       "        vertical-align: top;\n",
       "    }\n",
       "\n",
       "    .dataframe thead th {\n",
       "        text-align: right;\n",
       "    }\n",
       "</style>\n",
       "<table border=\"1\" class=\"dataframe\">\n",
       "  <thead>\n",
       "    <tr style=\"text-align: right;\">\n",
       "      <th></th>\n",
       "      <th>YEAR</th>\n",
       "      <th>M</th>\n",
       "      <th>Y</th>\n",
       "      <th>WHH</th>\n",
       "      <th>P</th>\n",
       "      <th>OR</th>\n",
       "      <th>m</th>\n",
       "      <th>y</th>\n",
       "      <th>p</th>\n",
       "      <th>m_p</th>\n",
       "    </tr>\n",
       "  </thead>\n",
       "  <tbody>\n",
       "    <tr>\n",
       "      <th>0</th>\n",
       "      <td>1990Q1</td>\n",
       "      <td>2800323.02</td>\n",
       "      <td>4944425.83</td>\n",
       "      <td>8831083.80</td>\n",
       "      <td>83.85</td>\n",
       "      <td>5.390000</td>\n",
       "      <td>14.845245</td>\n",
       "      <td>15.413771</td>\n",
       "      <td>4.429029</td>\n",
       "      <td>10.416216</td>\n",
       "    </tr>\n",
       "    <tr>\n",
       "      <th>1</th>\n",
       "      <td>1990Q2</td>\n",
       "      <td>2842420.32</td>\n",
       "      <td>4971787.92</td>\n",
       "      <td>9193762.10</td>\n",
       "      <td>84.77</td>\n",
       "      <td>5.430000</td>\n",
       "      <td>14.860166</td>\n",
       "      <td>15.419290</td>\n",
       "      <td>4.439942</td>\n",
       "      <td>10.420225</td>\n",
       "    </tr>\n",
       "    <tr>\n",
       "      <th>2</th>\n",
       "      <td>1990Q3</td>\n",
       "      <td>2901349.28</td>\n",
       "      <td>5012622.96</td>\n",
       "      <td>9544938.80</td>\n",
       "      <td>85.62</td>\n",
       "      <td>5.380000</td>\n",
       "      <td>14.880686</td>\n",
       "      <td>15.427470</td>\n",
       "      <td>4.449919</td>\n",
       "      <td>10.430768</td>\n",
       "    </tr>\n",
       "    <tr>\n",
       "      <th>3</th>\n",
       "      <td>1990Q4</td>\n",
       "      <td>2962927.69</td>\n",
       "      <td>5055894.03</td>\n",
       "      <td>9868494.30</td>\n",
       "      <td>86.24</td>\n",
       "      <td>5.490000</td>\n",
       "      <td>14.901688</td>\n",
       "      <td>15.436065</td>\n",
       "      <td>4.457134</td>\n",
       "      <td>10.444554</td>\n",
       "    </tr>\n",
       "    <tr>\n",
       "      <th>4</th>\n",
       "      <td>1991Q1</td>\n",
       "      <td>3022986.97</td>\n",
       "      <td>5143857.89</td>\n",
       "      <td>10150361.50</td>\n",
       "      <td>86.98</td>\n",
       "      <td>5.590000</td>\n",
       "      <td>14.921756</td>\n",
       "      <td>15.453314</td>\n",
       "      <td>4.465678</td>\n",
       "      <td>10.456078</td>\n",
       "    </tr>\n",
       "    <tr>\n",
       "      <th>...</th>\n",
       "      <td>...</td>\n",
       "      <td>...</td>\n",
       "      <td>...</td>\n",
       "      <td>...</td>\n",
       "      <td>...</td>\n",
       "      <td>...</td>\n",
       "      <td>...</td>\n",
       "      <td>...</td>\n",
       "      <td>...</td>\n",
       "      <td>...</td>\n",
       "    </tr>\n",
       "    <tr>\n",
       "      <th>87</th>\n",
       "      <td>2011Q4</td>\n",
       "      <td>9597865.61</td>\n",
       "      <td>7077794.44</td>\n",
       "      <td>26748591.00</td>\n",
       "      <td>131.76</td>\n",
       "      <td>1.204606</td>\n",
       "      <td>16.077051</td>\n",
       "      <td>15.772473</td>\n",
       "      <td>4.880982</td>\n",
       "      <td>11.196069</td>\n",
       "    </tr>\n",
       "    <tr>\n",
       "      <th>88</th>\n",
       "      <td>2012Q1</td>\n",
       "      <td>9682593.42</td>\n",
       "      <td>7067559.26</td>\n",
       "      <td>26504982.77</td>\n",
       "      <td>132.18</td>\n",
       "      <td>1.148056</td>\n",
       "      <td>16.085840</td>\n",
       "      <td>15.771026</td>\n",
       "      <td>4.884165</td>\n",
       "      <td>11.201676</td>\n",
       "    </tr>\n",
       "    <tr>\n",
       "      <th>89</th>\n",
       "      <td>2012Q2</td>\n",
       "      <td>9763955.00</td>\n",
       "      <td>7042680.34</td>\n",
       "      <td>26380056.83</td>\n",
       "      <td>132.54</td>\n",
       "      <td>1.033236</td>\n",
       "      <td>16.094208</td>\n",
       "      <td>15.767499</td>\n",
       "      <td>4.886884</td>\n",
       "      <td>11.207324</td>\n",
       "    </tr>\n",
       "    <tr>\n",
       "      <th>90</th>\n",
       "      <td>2012Q3</td>\n",
       "      <td>9841202.78</td>\n",
       "      <td>7031542.61</td>\n",
       "      <td>26147319.25</td>\n",
       "      <td>132.96</td>\n",
       "      <td>0.945536</td>\n",
       "      <td>16.102088</td>\n",
       "      <td>15.765917</td>\n",
       "      <td>4.890048</td>\n",
       "      <td>11.212040</td>\n",
       "    </tr>\n",
       "    <tr>\n",
       "      <th>91</th>\n",
       "      <td>2012Q4</td>\n",
       "      <td>9937198.60</td>\n",
       "      <td>7001767.80</td>\n",
       "      <td>25882264.27</td>\n",
       "      <td>133.39</td>\n",
       "      <td>0.896294</td>\n",
       "      <td>16.111796</td>\n",
       "      <td>15.761673</td>\n",
       "      <td>4.893277</td>\n",
       "      <td>11.218519</td>\n",
       "    </tr>\n",
       "  </tbody>\n",
       "</table>\n",
       "<p>92 rows × 10 columns</p>\n",
       "</div>"
      ]
     },
     "execution_count": 113,
     "metadata": {},
     "output_type": "execute_result"
    }
   ],
   "execution_count": 113
  },
  {
   "metadata": {
    "ExecuteTime": {
     "end_time": "2025-03-20T17:39:56.537810Z",
     "start_time": "2025-03-20T17:39:56.534775Z"
    }
   },
   "cell_type": "code",
   "source": "df['m_p']",
   "id": "7e6f7e85d2e793f2",
   "outputs": [
    {
     "data": {
      "text/plain": [
       "0     10.416216\n",
       "1     10.420225\n",
       "2     10.430768\n",
       "3     10.444554\n",
       "4     10.456078\n",
       "        ...    \n",
       "87    11.196069\n",
       "88    11.201676\n",
       "89    11.207324\n",
       "90    11.212040\n",
       "91    11.218519\n",
       "Name: m_p, Length: 92, dtype: float64"
      ]
     },
     "execution_count": 114,
     "metadata": {},
     "output_type": "execute_result"
    }
   ],
   "execution_count": 114
  },
  {
   "metadata": {
    "ExecuteTime": {
     "end_time": "2025-03-20T16:43:02.538071Z",
     "start_time": "2025-03-20T16:43:02.427654Z"
    }
   },
   "cell_type": "code",
   "source": [
    "plt.figure(figsize=(12, 3))\n",
    "plt.plot(df['YEAR'].astype(str), df['m_p'], marker='o', linestyle='-', label='m over Years')\n",
    "plt.xlabel('Year')\n",
    "plt.ylabel('Real money stock')\n",
    "plt.title('Plot of real money stock')\n",
    "plt.xticks(df['YEAR'].astype(str)[::2].astype(str), rotation=90)  # Convert PeriodIndex to string\n",
    "plt.grid(True)\n",
    "plt.show()"
   ],
   "id": "4d5498f14a7bb1ea",
   "outputs": [
    {
     "data": {
      "text/plain": [
       "<Figure size 1200x300 with 1 Axes>"
      ],
      "image/png": "[encoded data removed]"
     },
     "metadata": {},
     "output_type": "display_data"
    }
   ],
   "execution_count": 90
  },
  {
   "metadata": {
    "ExecuteTime": {
     "end_time": "2025-03-20T16:43:16.629162Z",
     "start_time": "2025-03-20T16:43:16.509526Z"
    }
   },
   "cell_type": "code",
   "source": [
    "plt.figure(figsize=(12, 3))\n",
    "plt.plot(df['YEAR'].astype(str), df['y'], marker='o', linestyle='-', label='m over Years')\n",
    "plt.xlabel('Year')\n",
    "plt.ylabel('Log real gross domestic product')\n",
    "plt.title('Plot of log real gross domestic product')\n",
    "plt.xticks(df['YEAR'].astype(str)[::2], rotation=90)\n",
    "plt.grid(True)\n",
    "plt.show()"
   ],
   "id": "1029b467a5f439ba",
   "outputs": [
    {
     "data": {
      "text/plain": [
       "<Figure size 1200x300 with 1 Axes>"
      ],
      "image/png": "[encoded data removed]"
     },
     "metadata": {},
     "output_type": "display_data"
    }
   ],
   "execution_count": 91
  },
  {
   "metadata": {
    "ExecuteTime": {
     "end_time": "2025-03-20T16:43:27.816410Z",
     "start_time": "2025-03-20T16:43:27.689262Z"
    }
   },
   "cell_type": "code",
   "source": [
    "plt.figure(figsize=(12, 3))\n",
    "plt.plot(df['YEAR'].astype(str), df['OR'], marker='o', linestyle='-', label='m over Years')\n",
    "plt.xlabel('Year')\n",
    "plt.ylabel('Own rate')\n",
    "plt.title('Plot of own rate')\n",
    "plt.xticks(df['YEAR'].astype(str)[::2], rotation=90)\n",
    "plt.grid(True)\n",
    "plt.show()"
   ],
   "id": "49532f530c290833",
   "outputs": [
    {
     "data": {
      "text/plain": [
       "<Figure size 1200x300 with 1 Axes>"
      ],
      "image/png": "[encoded data removed]"
     },
     "metadata": {},
     "output_type": "display_data"
    }
   ],
   "execution_count": 92
  },
  {
   "metadata": {},
   "cell_type": "markdown",
   "source": "## B. VECM",
   "id": "a4f3074c57ca4f5"
  },
  {
   "metadata": {},
   "cell_type": "code",
   "outputs": [],
   "execution_count": null,
   "source": [
    "# 1. Estimate VECM for p=1, p=2 (use OLS)\n",
    "# 2. Compute likelihood function for VECM models p=1, p=2\n",
    "# 3. Compute AIC, choose best model based on it\n",
    "# 4. For best model, perform cointegration tests: trace test and maximum eigenvalue test\n",
    "# 5. If cointegration exists, obtain and interpret alpha matrix."
   ],
   "id": "b5a9263bc148b9ae"
  },
  {
   "metadata": {},
   "cell_type": "markdown",
   "source": "### B.1 Estimate VECM for p=1, p=2",
   "id": "dc27ce00221932f6"
  },
  {
   "metadata": {},
   "cell_type": "code",
   "outputs": [],
   "execution_count": null,
   "source": [
    "def ols(X, Y):\n",
    "    return np.linalg.inv(X.T @ X) @ (X.T @ Y)\n",
    "\n",
    "delta_m_p = df['m_p'].diff().dropna()\n",
    "delta_y = df['y'].diff().dropna()\n",
    "delta_or = df['OR'].diff().dropna()"
   ],
   "id": "19fdcbefe56a7e0f"
  },
  {
   "metadata": {
    "ExecuteTime": {
     "end_time": "2025-03-20T19:35:22.475647Z",
     "start_time": "2025-03-20T19:35:22.471824Z"
    }
   },
   "cell_type": "code",
   "source": [
    "# Estimate VECM for p=1 using OLS\n",
    "# delta y_t = Pi * y_t-1 + e_t\n",
    "# Pi = alpha * beta'\n",
    "\n",
    "# Data lagged by one as X\n",
    "X_p1 = np.column_stack((df['m_p'][1:], df['y'][1:], df['OR'][1:]))\n",
    "\n",
    "# Delta of data as y\n",
    "y_p1 = np.column_stack((delta_m_p, delta_y, delta_or))\n",
    "\n",
    "# estimated parameters\n",
    "beta_p1 = ols(X_p1, y_p1)\n",
    "print(\"VECM Coefficients for p=1:\")\n",
    "print(beta_p1)"
   ],
   "id": "a59042e6c5ddb03a",
   "outputs": [
    {
     "name": "stdout",
     "output_type": "stream",
     "text": [
      "VECM Coefficients for p=1:\n",
      "[[-1.00997916e-03 -2.42542267e-02  3.36602313e-02]\n",
      " [ 1.26204290e-03  1.73773986e-02 -2.65946411e-02]\n",
      " [ 7.00540751e-06 -2.03254596e-03  9.28624253e-04]]\n"
     ]
    }
   ],
   "execution_count": 209
  },
  {
   "metadata": {
    "ExecuteTime": {
     "end_time": "2025-03-20T19:35:23.771055Z",
     "start_time": "2025-03-20T19:35:23.766113Z"
    }
   },
   "cell_type": "code",
   "source": [
    "# Estimate VECM for p=2\n",
    "# delta_y_t = Pi * y_t-1 + Gamma_1 * delta_y_t-1 + e_t\n",
    "\n",
    "# Data lagged by 1, we also drop the last row to match the dimensions of delta_y_t-1\n",
    "lagged_1_y = np.column_stack((df['m_p'][1:-1], df['y'][1:-1], df['OR'][1:-1]))\n",
    "\n",
    "# Lagged by one delta of data, the fact that it's delta reduces number of rows by 1 and then lag also reduces it by 1\n",
    "lagged_1_delta_y = np.column_stack((delta_m_p[1:], delta_y[1:], delta_or[1:]))\n",
    "X_p2 = np.hstack((lagged_1_y, lagged_1_delta_y))\n",
    "\n",
    "# delta of data as y, we drop the last row to match the dimensions of delta_y_t-1\n",
    "y_p2 = np.column_stack((delta_m_p[:-1], delta_y[:-1], delta_or[:-1]))\n",
    "\n",
    "beta_p2 = ols(X_p2, y_p2)\n",
    "print(\"VECM Coefficients for p=2:\")\n",
    "print(beta_p2)"
   ],
   "id": "dba59f6ebe0ac304",
   "outputs": [
    {
     "name": "stdout",
     "output_type": "stream",
     "text": [
      "VECM Coefficients for p=2:\n",
      "[[ 7.90736887e-04 -1.53804285e-02 -8.03143191e-02]\n",
      " [-3.77792676e-04  1.10975630e-02  5.46945544e-02]\n",
      " [ 9.09432041e-05 -1.00805302e-03  5.77576083e-03]\n",
      " [ 6.95486405e-01 -8.31118404e-02  3.84545631e+00]\n",
      " [-7.60282445e-02  2.47113828e-01 -1.10656896e+01]\n",
      " [-1.45597671e-03  1.44085919e-02  8.67380356e-01]]\n"
     ]
    }
   ],
   "execution_count": 210
  },
  {
   "metadata": {},
   "cell_type": "markdown",
   "source": "### B.2 Compute likelihood function for VECM models p=1, p=2",
   "id": "7286e7491b9df4d"
  },
  {
   "metadata": {
    "ExecuteTime": {
     "end_time": "2025-03-20T19:35:25.933844Z",
     "start_time": "2025-03-20T19:35:25.929376Z"
    }
   },
   "cell_type": "code",
   "source": [
    "def compute_residuals(X, beta, Y):\n",
    "    return Y - X @ beta\n",
    "\n",
    "def compute_covariance(residuals):\n",
    "    T = residuals.shape[0]\n",
    "    return (residuals.T @ residuals) / T\n",
    "\n",
    "def log_likelihood(residuals):\n",
    "    T, n = residuals.shape\n",
    "    Sigma = compute_covariance(residuals)\n",
    "    det_Sigma = np.linalg.det(Sigma)\n",
    "    inv_Sigma = np.linalg.inv(Sigma)\n",
    "    trace_term = np.trace(inv_Sigma @ (residuals.T @ residuals) / T)\n",
    "    return -0.5 * T * (n * np.log(2 * np.pi) + np.log(det_Sigma) + trace_term)\n",
    "\n",
    "residuals_p1 = compute_residuals(X_p1, beta_p1, y_p1)\n",
    "ll_p1 = log_likelihood(residuals_p1)\n",
    "print(\"Log-Likelihood for VECM (p=1):\", ll_p1)\n",
    "\n",
    "residuals_p2 = compute_residuals(X_p2, beta_p2, y_p2)\n",
    "ll_p2 = log_likelihood(residuals_p2)\n",
    "print(\"Log-Likelihood for VECM (p=2):\", ll_p2)"
   ],
   "id": "c986e79c2fc95d1d",
   "outputs": [
    {
     "name": "stdout",
     "output_type": "stream",
     "text": [
      "Log-Likelihood for VECM (p=1): 723.1927955671894\n",
      "Log-Likelihood for VECM (p=2): 810.0338073305497\n"
     ]
    }
   ],
   "execution_count": 211
  },
  {
   "metadata": {},
   "cell_type": "markdown",
   "source": "### B.3 Compute AIC, choose best model based on it",
   "id": "97f58244ba790c9"
  },
  {
   "metadata": {
    "ExecuteTime": {
     "end_time": "2025-03-20T19:35:36.809591Z",
     "start_time": "2025-03-20T19:35:36.806478Z"
    }
   },
   "cell_type": "code",
   "source": [
    "def compute_aic(log_likelihood, num_params):\n",
    "    return -2 * log_likelihood + 2 * num_params\n",
    "\n",
    "aic_p1 = compute_aic(ll_p1, beta_p1.size)\n",
    "aic_p2 = compute_aic(ll_p2, beta_p2.size)\n",
    "\n",
    "print(\"AIC for VECM (p=1):\", aic_p1)\n",
    "print(\"AIC for VECM (p=2):\", aic_p2)"
   ],
   "id": "a79a214992d1de4",
   "outputs": [
    {
     "name": "stdout",
     "output_type": "stream",
     "text": [
      "AIC for VECM (p=1): -1428.3855911343787\n",
      "AIC for VECM (p=2): -1584.0676146610995\n"
     ]
    }
   ],
   "execution_count": 212
  },
  {
   "metadata": {},
   "cell_type": "markdown",
   "source": "### B.4 For best model, perform cointegration tests: trace test and maximum eigenvalue test",
   "id": "3b066f98b0e70e10"
  },
  {
   "metadata": {
    "ExecuteTime": {
     "end_time": "2025-03-20T19:53:01.578909Z",
     "start_time": "2025-03-20T19:53:01.574599Z"
    }
   },
   "cell_type": "code",
   "source": [
    "def cointegration_tests(X):\n",
    "    T = X.shape[0]\n",
    "\n",
    "    # Step 1: Compute the covariance matrices\n",
    "    S_00 = X.T @ X / T\n",
    "    S_11 = X[1:].T @ X[1:] / (T - 1)\n",
    "    S_01 = X[1:].T @ X[:-1] / (T - 1)\n",
    "    S_10 = S_01.T\n",
    "\n",
    "    # Step 2: Compute the eigenvalues of the cointegration matrix\n",
    "    eigvals, eigvecs = np.linalg.eig(np.linalg.inv(S_11) @ S_10 @ np.linalg.inv(S_00) @ S_01)\n",
    "\n",
    "    # Sort eigenvalues in descending order\n",
    "    eigvals = np.sort(np.real(eigvals))[::-1]\n",
    "\n",
    "    # Trace Test\n",
    "    trace_stat = -T * np.sum(np.log(1 - eigvals[2:]))\n",
    "\n",
    "    # Max-Eigenvalue Test\n",
    "    max_eigen_stat = -T * np.log(1 - eigvals[2])\n",
    "\n",
    "    return trace_stat, max_eigen_stat, eigvals\n",
    "\n",
    "X_best = np.column_stack((delta_m_p[2:], delta_y[2:], delta_or[2:]))\n",
    "\n",
    "trace_stat, max_eigen_stat, eigenvalues = cointegration_tests(X_best)\n",
    "\n",
    "print(f\"Trace Statistic: {trace_stat}\")\n",
    "print(f\"Maximum Eigenvalue Statistic: {max_eigen_stat}\")\n",
    "print(f\"Eigenvalues: {eigenvalues}\")"
   ],
   "id": "247fb2c20a4a0595",
   "outputs": [
    {
     "name": "stdout",
     "output_type": "stream",
     "text": [
      "Trace Statistic: 56.36322020014797\n",
      "Maximum Eigenvalue Statistic: 56.36322020014797\n",
      "Eigenvalues: [0.82026413 0.69453246 0.46915999]\n"
     ]
    }
   ],
   "execution_count": 219
  },
  {
   "metadata": {},
   "cell_type": "markdown",
   "source": "### B.5 If cointegration exists, obtain and interpret alpha matrix.",
   "id": "72f16c72540aea8a"
  },
  {
   "metadata": {
    "ExecuteTime": {
     "end_time": "2025-03-20T19:38:41.387355Z",
     "start_time": "2025-03-20T19:38:41.382914Z"
    }
   },
   "cell_type": "code",
   "source": [
    "def compute_alpha(X):\n",
    "    T = X.shape[0]\n",
    "\n",
    "    # Step 1: Compute the covariance matrices\n",
    "    S_00 = X.T @ X / T\n",
    "    S_11 = X[1:].T @ X[1:] / (T - 1)\n",
    "    S_01 = X[1:].T @ X[:-1] / (T - 1)\n",
    "    S_10 = S_01.T\n",
    "\n",
    "    # Step 2: Compute the eigenvalues and eigenvectors of the cointegration matrix\n",
    "    eigvals, eigvecs = np.linalg.eig(np.linalg.inv(S_11) @ S_10 @ np.linalg.inv(S_00) @ S_01)\n",
    "\n",
    "    # Real eigenvalues and eigenvectors\n",
    "    eigvals = np.real(eigvals)\n",
    "    eigvecs = np.real(eigvecs)\n",
    "\n",
    "    # Step 3: Construct diagonal matrix of eigenvalues\n",
    "    Lambda = np.diag(eigvals)\n",
    "\n",
    "    # Step 4: Compute the alpha matrix as V * Lambda\n",
    "    alpha = eigvecs @ Lambda\n",
    "\n",
    "    return alpha\n",
    "\n",
    "alpha_matrix = compute_alpha(X_best)\n",
    "\n",
    "print(\"Alpha Matrix:\")\n",
    "print(alpha_matrix)"
   ],
   "id": "c15914410bf20a45",
   "outputs": [
    {
     "name": "stdout",
     "output_type": "stream",
     "text": [
      "Alpha Matrix:\n",
      "[[ 0.16121065 -0.80504423  0.64656395]\n",
      " [-0.44057755 -0.15636556  0.23249969]\n",
      " [ 0.00369504  0.01693633  0.10136219]]\n"
     ]
    }
   ],
   "execution_count": 215
  },
  {
   "metadata": {},
   "cell_type": "code",
   "outputs": [],
   "execution_count": null,
   "source": "",
   "id": "fbba51cab767010e"
  }
 ],
 "metadata": {
  "kernelspec": {
   "display_name": "Python 3",
   "language": "python",
   "name": "python3"
  },
  "language_info": {
   "codemirror_mode": {
    "name": "ipython",
    "version": 2
   },
   "file_extension": ".py",
   "mimetype": "text/x-python",
   "name": "python",
   "nbconvert_exporter": "python",
   "pygments_lexer": "ipython2",
   "version": "2.7.6"
  }
 },
 "nbformat": 4,
 "nbformat_minor": 5
}
